{
 "cells": [
  {
   "cell_type": "code",
   "execution_count": 1,
   "metadata": {},
   "outputs": [],
   "source": [
    "import pandas as pd"
   ]
  },
  {
   "cell_type": "code",
   "execution_count": 5,
   "metadata": {},
   "outputs": [
    {
     "data": {
      "text/html": [
       "<div>\n",
       "<style scoped>\n",
       "    .dataframe tbody tr th:only-of-type {\n",
       "        vertical-align: middle;\n",
       "    }\n",
       "\n",
       "    .dataframe tbody tr th {\n",
       "        vertical-align: top;\n",
       "    }\n",
       "\n",
       "    .dataframe thead th {\n",
       "        text-align: right;\n",
       "    }\n",
       "</style>\n",
       "<table border=\"1\" class=\"dataframe\">\n",
       "  <thead>\n",
       "    <tr style=\"text-align: right;\">\n",
       "      <th></th>\n",
       "      <th>flight_id</th>\n",
       "      <th>air_temperature</th>\n",
       "      <th>battery_serial_number</th>\n",
       "      <th>body_serial_number</th>\n",
       "      <th>commit</th>\n",
       "      <th>launch_airspeed</th>\n",
       "      <th>launch_groundspeed</th>\n",
       "      <th>launch_timestamp</th>\n",
       "      <th>preflight_voltage</th>\n",
       "      <th>rel_humidity</th>\n",
       "      <th>static_pressure</th>\n",
       "      <th>wind_direction</th>\n",
       "      <th>wind_magnitude</th>\n",
       "      <th>wing_serial_number</th>\n",
       "    </tr>\n",
       "  </thead>\n",
       "  <tbody>\n",
       "    <tr>\n",
       "      <th>0</th>\n",
       "      <td>16951</td>\n",
       "      <td>20.550000</td>\n",
       "      <td>15SPJJJ09036021</td>\n",
       "      <td>577350132807348254</td>\n",
       "      <td>5c504d9a16</td>\n",
       "      <td>32.453445</td>\n",
       "      <td>30.164656</td>\n",
       "      <td>2018-09-06 07:43:59 CAT</td>\n",
       "      <td>NaN</td>\n",
       "      <td>74.150000</td>\n",
       "      <td>80662.081736</td>\n",
       "      <td>-49.434555</td>\n",
       "      <td>1.949338</td>\n",
       "      <td>15SPJJJ11024054</td>\n",
       "    </tr>\n",
       "    <tr>\n",
       "      <th>1</th>\n",
       "      <td>16952</td>\n",
       "      <td>20.500000</td>\n",
       "      <td>15SPJJJ10029029</td>\n",
       "      <td>577209618523054122</td>\n",
       "      <td>5c504d9a16</td>\n",
       "      <td>32.141209</td>\n",
       "      <td>30.535246</td>\n",
       "      <td>2018-09-06 07:51:49 CAT</td>\n",
       "      <td>NaN</td>\n",
       "      <td>71.175044</td>\n",
       "      <td>80708.065314</td>\n",
       "      <td>-4.408768</td>\n",
       "      <td>0.917357</td>\n",
       "      <td>15SPJJJ09011032</td>\n",
       "    </tr>\n",
       "    <tr>\n",
       "      <th>2</th>\n",
       "      <td>16954</td>\n",
       "      <td>24.475019</td>\n",
       "      <td>15SPJJJ10012034</td>\n",
       "      <td>577209618523054122</td>\n",
       "      <td>5c504d9a16</td>\n",
       "      <td>34.701878</td>\n",
       "      <td>29.872613</td>\n",
       "      <td>2018-09-06 09:56:37 CAT</td>\n",
       "      <td>NaN</td>\n",
       "      <td>66.374982</td>\n",
       "      <td>80774.270438</td>\n",
       "      <td>-23.458781</td>\n",
       "      <td>3.788383</td>\n",
       "      <td>15SPJJJ09011032</td>\n",
       "    </tr>\n",
       "    <tr>\n",
       "      <th>3</th>\n",
       "      <td>16955</td>\n",
       "      <td>27.300000</td>\n",
       "      <td>15SPJJJ10054027</td>\n",
       "      <td>577209618523082792</td>\n",
       "      <td>5c504d9a16</td>\n",
       "      <td>34.368999</td>\n",
       "      <td>29.877624</td>\n",
       "      <td>2018-09-06 10:27:04 CAT</td>\n",
       "      <td>NaN</td>\n",
       "      <td>59.000000</td>\n",
       "      <td>80805.138793</td>\n",
       "      <td>-46.747881</td>\n",
       "      <td>3.921605</td>\n",
       "      <td>15SPJJJ11049056</td>\n",
       "    </tr>\n",
       "    <tr>\n",
       "      <th>4</th>\n",
       "      <td>16957</td>\n",
       "      <td>26.950000</td>\n",
       "      <td>15SPJJJ10050049</td>\n",
       "      <td>577348835962150933</td>\n",
       "      <td>5c504d9a16</td>\n",
       "      <td>32.898979</td>\n",
       "      <td>30.027183</td>\n",
       "      <td>2018-09-06 11:09:39 CAT</td>\n",
       "      <td>NaN</td>\n",
       "      <td>63.900000</td>\n",
       "      <td>80768.969307</td>\n",
       "      <td>-29.293360</td>\n",
       "      <td>2.975881</td>\n",
       "      <td>15SPJJJ09031032</td>\n",
       "    </tr>\n",
       "  </tbody>\n",
       "</table>\n",
       "</div>"
      ],
      "text/plain": [
       "   flight_id  air_temperature battery_serial_number  body_serial_number  \\\n",
       "0      16951        20.550000       15SPJJJ09036021  577350132807348254   \n",
       "1      16952        20.500000       15SPJJJ10029029  577209618523054122   \n",
       "2      16954        24.475019       15SPJJJ10012034  577209618523054122   \n",
       "3      16955        27.300000       15SPJJJ10054027  577209618523082792   \n",
       "4      16957        26.950000       15SPJJJ10050049  577348835962150933   \n",
       "\n",
       "       commit  launch_airspeed  launch_groundspeed         launch_timestamp  \\\n",
       "0  5c504d9a16        32.453445           30.164656  2018-09-06 07:43:59 CAT   \n",
       "1  5c504d9a16        32.141209           30.535246  2018-09-06 07:51:49 CAT   \n",
       "2  5c504d9a16        34.701878           29.872613  2018-09-06 09:56:37 CAT   \n",
       "3  5c504d9a16        34.368999           29.877624  2018-09-06 10:27:04 CAT   \n",
       "4  5c504d9a16        32.898979           30.027183  2018-09-06 11:09:39 CAT   \n",
       "\n",
       "   preflight_voltage  rel_humidity  static_pressure  wind_direction  \\\n",
       "0                NaN     74.150000     80662.081736      -49.434555   \n",
       "1                NaN     71.175044     80708.065314       -4.408768   \n",
       "2                NaN     66.374982     80774.270438      -23.458781   \n",
       "3                NaN     59.000000     80805.138793      -46.747881   \n",
       "4                NaN     63.900000     80768.969307      -29.293360   \n",
       "\n",
       "   wind_magnitude wing_serial_number  \n",
       "0        1.949338    15SPJJJ11024054  \n",
       "1        0.917357    15SPJJJ09011032  \n",
       "2        3.788383    15SPJJJ09011032  \n",
       "3        3.921605    15SPJJJ11049056  \n",
       "4        2.975881    15SPJJJ09031032  "
      ]
     },
     "execution_count": 5,
     "metadata": {},
     "output_type": "execute_result"
    }
   ],
   "source": [
    "df=pd.read_csv(\"summary_data.csv\")\n",
    "df.head()"
   ]
  },
  {
   "cell_type": "code",
   "execution_count": 6,
   "metadata": {},
   "outputs": [
    {
     "data": {
      "text/plain": [
       "(447, 14)"
      ]
     },
     "execution_count": 6,
     "metadata": {},
     "output_type": "execute_result"
    }
   ],
   "source": [
    "df.shape"
   ]
  },
  {
   "cell_type": "code",
   "execution_count": 7,
   "metadata": {},
   "outputs": [
    {
     "name": "stdout",
     "output_type": "stream",
     "text": [
      "<class 'pandas.core.frame.DataFrame'>\n",
      "RangeIndex: 447 entries, 0 to 446\n",
      "Data columns (total 14 columns):\n",
      "flight_id                447 non-null int64\n",
      "air_temperature          447 non-null float64\n",
      "battery_serial_number    447 non-null object\n",
      "body_serial_number       447 non-null int64\n",
      "commit                   447 non-null object\n",
      "launch_airspeed          447 non-null float64\n",
      "launch_groundspeed       447 non-null float64\n",
      "launch_timestamp         447 non-null object\n",
      "preflight_voltage        431 non-null float64\n",
      "rel_humidity             447 non-null float64\n",
      "static_pressure          447 non-null float64\n",
      "wind_direction           447 non-null float64\n",
      "wind_magnitude           447 non-null float64\n",
      "wing_serial_number       447 non-null object\n",
      "dtypes: float64(8), int64(2), object(4)\n",
      "memory usage: 49.0+ KB\n"
     ]
    }
   ],
   "source": [
    "df.info()"
   ]
  },
  {
   "cell_type": "code",
   "execution_count": 8,
   "metadata": {},
   "outputs": [
    {
     "data": {
      "text/html": [
       "<div>\n",
       "<style scoped>\n",
       "    .dataframe tbody tr th:only-of-type {\n",
       "        vertical-align: middle;\n",
       "    }\n",
       "\n",
       "    .dataframe tbody tr th {\n",
       "        vertical-align: top;\n",
       "    }\n",
       "\n",
       "    .dataframe thead th {\n",
       "        text-align: right;\n",
       "    }\n",
       "</style>\n",
       "<table border=\"1\" class=\"dataframe\">\n",
       "  <thead>\n",
       "    <tr style=\"text-align: right;\">\n",
       "      <th></th>\n",
       "      <th>flight_id</th>\n",
       "      <th>air_temperature</th>\n",
       "      <th>body_serial_number</th>\n",
       "      <th>launch_airspeed</th>\n",
       "      <th>launch_groundspeed</th>\n",
       "      <th>preflight_voltage</th>\n",
       "      <th>rel_humidity</th>\n",
       "      <th>static_pressure</th>\n",
       "      <th>wind_direction</th>\n",
       "      <th>wind_magnitude</th>\n",
       "    </tr>\n",
       "  </thead>\n",
       "  <tbody>\n",
       "    <tr>\n",
       "      <th>count</th>\n",
       "      <td>447.000000</td>\n",
       "      <td>447.000000</td>\n",
       "      <td>4.470000e+02</td>\n",
       "      <td>447.000000</td>\n",
       "      <td>447.000000</td>\n",
       "      <td>431.000000</td>\n",
       "      <td>447.000000</td>\n",
       "      <td>447.000000</td>\n",
       "      <td>447.000000</td>\n",
       "      <td>447.000000</td>\n",
       "    </tr>\n",
       "    <tr>\n",
       "      <th>mean</th>\n",
       "      <td>17373.454139</td>\n",
       "      <td>25.234679</td>\n",
       "      <td>5.773372e+17</td>\n",
       "      <td>31.976493</td>\n",
       "      <td>30.112178</td>\n",
       "      <td>32.145665</td>\n",
       "      <td>56.291622</td>\n",
       "      <td>80456.449107</td>\n",
       "      <td>-45.294524</td>\n",
       "      <td>2.359469</td>\n",
       "    </tr>\n",
       "    <tr>\n",
       "      <th>std</th>\n",
       "      <td>232.833168</td>\n",
       "      <td>4.079718</td>\n",
       "      <td>4.004315e+13</td>\n",
       "      <td>1.759982</td>\n",
       "      <td>0.371296</td>\n",
       "      <td>0.187159</td>\n",
       "      <td>7.278221</td>\n",
       "      <td>170.113835</td>\n",
       "      <td>63.491695</td>\n",
       "      <td>0.996348</td>\n",
       "    </tr>\n",
       "    <tr>\n",
       "      <th>min</th>\n",
       "      <td>16951.000000</td>\n",
       "      <td>16.500000</td>\n",
       "      <td>5.772096e+17</td>\n",
       "      <td>28.027149</td>\n",
       "      <td>27.548899</td>\n",
       "      <td>31.544811</td>\n",
       "      <td>35.500000</td>\n",
       "      <td>80010.138720</td>\n",
       "      <td>-176.134898</td>\n",
       "      <td>0.188798</td>\n",
       "    </tr>\n",
       "    <tr>\n",
       "      <th>25%</th>\n",
       "      <td>17170.000000</td>\n",
       "      <td>22.037499</td>\n",
       "      <td>5.773488e+17</td>\n",
       "      <td>30.761058</td>\n",
       "      <td>29.926867</td>\n",
       "      <td>32.055271</td>\n",
       "      <td>51.200017</td>\n",
       "      <td>80323.793028</td>\n",
       "      <td>-78.527910</td>\n",
       "      <td>1.703303</td>\n",
       "    </tr>\n",
       "    <tr>\n",
       "      <th>50%</th>\n",
       "      <td>17359.000000</td>\n",
       "      <td>24.950000</td>\n",
       "      <td>5.773501e+17</td>\n",
       "      <td>31.893215</td>\n",
       "      <td>30.097641</td>\n",
       "      <td>32.189774</td>\n",
       "      <td>56.200000</td>\n",
       "      <td>80445.156986</td>\n",
       "      <td>-51.634721</td>\n",
       "      <td>2.307687</td>\n",
       "    </tr>\n",
       "    <tr>\n",
       "      <th>75%</th>\n",
       "      <td>17590.500000</td>\n",
       "      <td>28.325000</td>\n",
       "      <td>5.773501e+17</td>\n",
       "      <td>33.198513</td>\n",
       "      <td>30.282600</td>\n",
       "      <td>32.268639</td>\n",
       "      <td>61.350000</td>\n",
       "      <td>80590.144407</td>\n",
       "      <td>-25.951296</td>\n",
       "      <td>3.006968</td>\n",
       "    </tr>\n",
       "    <tr>\n",
       "      <th>max</th>\n",
       "      <td>17745.000000</td>\n",
       "      <td>34.600000</td>\n",
       "      <td>5.773501e+17</td>\n",
       "      <td>36.929199</td>\n",
       "      <td>31.205293</td>\n",
       "      <td>32.523598</td>\n",
       "      <td>74.150000</td>\n",
       "      <td>80844.071107</td>\n",
       "      <td>179.700111</td>\n",
       "      <td>7.466193</td>\n",
       "    </tr>\n",
       "  </tbody>\n",
       "</table>\n",
       "</div>"
      ],
      "text/plain": [
       "          flight_id  air_temperature  body_serial_number  launch_airspeed  \\\n",
       "count    447.000000       447.000000        4.470000e+02       447.000000   \n",
       "mean   17373.454139        25.234679        5.773372e+17        31.976493   \n",
       "std      232.833168         4.079718        4.004315e+13         1.759982   \n",
       "min    16951.000000        16.500000        5.772096e+17        28.027149   \n",
       "25%    17170.000000        22.037499        5.773488e+17        30.761058   \n",
       "50%    17359.000000        24.950000        5.773501e+17        31.893215   \n",
       "75%    17590.500000        28.325000        5.773501e+17        33.198513   \n",
       "max    17745.000000        34.600000        5.773501e+17        36.929199   \n",
       "\n",
       "       launch_groundspeed  preflight_voltage  rel_humidity  static_pressure  \\\n",
       "count          447.000000         431.000000    447.000000       447.000000   \n",
       "mean            30.112178          32.145665     56.291622     80456.449107   \n",
       "std              0.371296           0.187159      7.278221       170.113835   \n",
       "min             27.548899          31.544811     35.500000     80010.138720   \n",
       "25%             29.926867          32.055271     51.200017     80323.793028   \n",
       "50%             30.097641          32.189774     56.200000     80445.156986   \n",
       "75%             30.282600          32.268639     61.350000     80590.144407   \n",
       "max             31.205293          32.523598     74.150000     80844.071107   \n",
       "\n",
       "       wind_direction  wind_magnitude  \n",
       "count      447.000000      447.000000  \n",
       "mean       -45.294524        2.359469  \n",
       "std         63.491695        0.996348  \n",
       "min       -176.134898        0.188798  \n",
       "25%        -78.527910        1.703303  \n",
       "50%        -51.634721        2.307687  \n",
       "75%        -25.951296        3.006968  \n",
       "max        179.700111        7.466193  "
      ]
     },
     "execution_count": 8,
     "metadata": {},
     "output_type": "execute_result"
    }
   ],
   "source": [
    "df.describe()"
   ]
  },
  {
   "cell_type": "code",
   "execution_count": 9,
   "metadata": {},
   "outputs": [
    {
     "data": {
      "text/plain": [
       "True"
      ]
     },
     "execution_count": 9,
     "metadata": {},
     "output_type": "execute_result"
    }
   ],
   "source": [
    "df.isnull().values.any()"
   ]
  },
  {
   "cell_type": "code",
   "execution_count": 10,
   "metadata": {},
   "outputs": [
    {
     "data": {
      "text/plain": [
       "flight_id                 0\n",
       "air_temperature           0\n",
       "battery_serial_number     0\n",
       "body_serial_number        0\n",
       "commit                    0\n",
       "launch_airspeed           0\n",
       "launch_groundspeed        0\n",
       "launch_timestamp          0\n",
       "preflight_voltage        16\n",
       "rel_humidity              0\n",
       "static_pressure           0\n",
       "wind_direction            0\n",
       "wind_magnitude            0\n",
       "wing_serial_number        0\n",
       "dtype: int64"
      ]
     },
     "execution_count": 10,
     "metadata": {},
     "output_type": "execute_result"
    }
   ],
   "source": [
    "df.isnull().sum()"
   ]
  },
  {
   "cell_type": "code",
   "execution_count": 13,
   "metadata": {},
   "outputs": [
    {
     "data": {
      "text/plain": [
       "<matplotlib.axes._subplots.AxesSubplot at 0x1a1deaf3c8>"
      ]
     },
     "execution_count": 13,
     "metadata": {},
     "output_type": "execute_result"
    },
    {
     "data": {
      "image/png": "[encoded data removed]",
      "text/plain": [
       "<Figure size 432x288 with 2 Axes>"
      ]
     },
     "metadata": {},
     "output_type": "display_data"
    }
   ],
   "source": [
    "import seaborn as sns\n",
    "corr = df.corr()\n",
    "plt=sns.heatmap(corr, \n",
    "            xticklabels=corr.columns.values,\n",
    "            yticklabels=corr.columns.values)\n",
    "plt"
   ]
  },
  {
   "cell_type": "code",
   "execution_count": 14,
   "metadata": {},
   "outputs": [
    {
     "data": {
      "text/plain": [
       "<matplotlib.axes._subplots.AxesSubplot at 0x1a1dbb4278>"
      ]
     },
     "execution_count": 14,
     "metadata": {},
     "output_type": "execute_result"
    },
    {
     "data": {
      "image/png": "[encoded data removed]",
      "text/plain": [
       "<Figure size 432x288 with 1 Axes>"
      ]
     },
     "metadata": {},
     "output_type": "display_data"
    }
   ],
   "source": [
    "sns.boxplot(x=df['air_temperature'])"
   ]
  },
  {
   "cell_type": "code",
   "execution_count": 15,
   "metadata": {},
   "outputs": [
    {
     "data": {
      "text/plain": [
       "<matplotlib.axes._subplots.AxesSubplot at 0x1a1e000cc0>"
      ]
     },
     "execution_count": 15,
     "metadata": {},
     "output_type": "execute_result"
    },
    {
     "data": {
      "image/png": "[encoded data removed]",
      "text/plain": [
       "<Figure size 432x288 with 1 Axes>"
      ]
     },
     "metadata": {},
     "output_type": "display_data"
    }
   ],
   "source": [
    "sns.boxplot(x=df['launch_airspeed'])"
   ]
  },
  {
   "cell_type": "code",
   "execution_count": 16,
   "metadata": {},
   "outputs": [
    {
     "data": {
      "text/plain": [
       "<matplotlib.axes._subplots.AxesSubplot at 0x1a1e0ec6d8>"
      ]
     },
     "execution_count": 16,
     "metadata": {},
     "output_type": "execute_result"
    },
    {
     "data": {
      "image/png": "[encoded data removed]",
      "text/plain": [
       "<Figure size 432x288 with 1 Axes>"
      ]
     },
     "metadata": {},
     "output_type": "display_data"
    }
   ],
   "source": [
    "sns.boxplot(x=df['launch_groundspeed'])"
   ]
  },
  {
   "cell_type": "code",
   "execution_count": 18,
   "metadata": {},
   "outputs": [
    {
     "data": {
      "text/plain": [
       "<matplotlib.axes._subplots.AxesSubplot at 0x1a1e5a15f8>"
      ]
     },
     "execution_count": 18,
     "metadata": {},
     "output_type": "execute_result"
    },
    {
     "data": {
      "image/png": "[encoded data removed]",
      "text/plain": [
       "<Figure size 432x288 with 1 Axes>"
      ]
     },
     "metadata": {},
     "output_type": "display_data"
    }
   ],
   "source": [
    "sns.boxplot(x=df['preflight_voltage'])"
   ]
  },
  {
   "cell_type": "code",
   "execution_count": 19,
   "metadata": {},
   "outputs": [
    {
     "data": {
      "text/plain": [
       "<matplotlib.axes._subplots.AxesSubplot at 0x1a1e5986a0>"
      ]
     },
     "execution_count": 19,
     "metadata": {},
     "output_type": "execute_result"
    },
    {
     "data": {
      "image/png": "[encoded data removed]",
      "text/plain": [
       "<Figure size 432x288 with 1 Axes>"
      ]
     },
     "metadata": {},
     "output_type": "display_data"
    }
   ],
   "source": [
    "sns.boxplot(x=df['rel_humidity'])"
   ]
  },
  {
   "cell_type": "code",
   "execution_count": 20,
   "metadata": {},
   "outputs": [
    {
     "data": {
      "text/plain": [
       "<matplotlib.axes._subplots.AxesSubplot at 0x1a1e3bfcf8>"
      ]
     },
     "execution_count": 20,
     "metadata": {},
     "output_type": "execute_result"
    },
    {
     "data": {
      "image/png": "[encoded data removed]",
      "text/plain": [
       "<Figure size 432x288 with 1 Axes>"
      ]
     },
     "metadata": {},
     "output_type": "display_data"
    }
   ],
   "source": [
    "sns.boxplot(x=df['static_pressure'])"
   ]
  },
  {
   "cell_type": "code",
   "execution_count": 21,
   "metadata": {},
   "outputs": [
    {
     "data": {
      "text/plain": [
       "<matplotlib.axes._subplots.AxesSubplot at 0x1a1e722e10>"
      ]
     },
     "execution_count": 21,
     "metadata": {},
     "output_type": "execute_result"
    },
    {
     "data": {
      "image/png": "[encoded data removed]",
      "text/plain": [
       "<Figure size 432x288 with 1 Axes>"
      ]
     },
     "metadata": {},
     "output_type": "display_data"
    }
   ],
   "source": [
    "sns.boxplot(x=df['wind_direction'])"
   ]
  },
  {
   "cell_type": "code",
   "execution_count": 22,
   "metadata": {},
   "outputs": [
    {
     "data": {
      "text/plain": [
       "<matplotlib.axes._subplots.AxesSubplot at 0x1a1e540f60>"
      ]
     },
     "execution_count": 22,
     "metadata": {},
     "output_type": "execute_result"
    },
    {
     "data": {
      "image/png": "[encoded data removed]",
      "text/plain": [
       "<Figure size 432x288 with 1 Axes>"
      ]
     },
     "metadata": {},
     "output_type": "display_data"
    }
   ],
   "source": [
    "sns.boxplot(x=df['wind_magnitude'])"
   ]
  },
  {
   "cell_type": "code",
   "execution_count": null,
   "metadata": {},
   "outputs": [],
   "source": []
  }
 ],
 "metadata": {
  "kernelspec": {
   "display_name": "Python 3",
   "language": "python",
   "name": "python3"
  },
  "language_info": {
   "codemirror_mode": {
    "name": "ipython",
    "version": 3
   },
   "file_extension": ".py",
   "mimetype": "text/x-python",
   "name": "python",
   "nbconvert_exporter": "python",
   "pygments_lexer": "ipython3",
   "version": "3.6.5"
  }
 },
 "nbformat": 4,
 "nbformat_minor": 2
}
